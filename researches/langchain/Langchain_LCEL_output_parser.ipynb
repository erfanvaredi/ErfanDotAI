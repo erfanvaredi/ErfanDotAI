{
 "cells": [
  {
   "cell_type": "markdown",
   "metadata": {},
   "source": [
    "## LangChain LCEL Chain + Pydantic Output Parser"
   ]
  },
  {
   "cell_type": "markdown",
   "metadata": {},
   "source": [
    "### Install Libs"
   ]
  },
  {
   "cell_type": "code",
   "execution_count": 1,
   "metadata": {},
   "outputs": [],
   "source": [
    "!pip install -Uq langchain langchain_openai"
   ]
  },
  {
   "cell_type": "markdown",
   "metadata": {},
   "source": [
    "### Import Libs"
   ]
  },
  {
   "cell_type": "code",
   "execution_count": 2,
   "metadata": {},
   "outputs": [],
   "source": [
    "from typing import List\n",
    "\n",
    "from langchain.output_parsers import PydanticOutputParser\n",
    "from langchain.prompts import PromptTemplate\n",
    "from langchain_core.pydantic_v1 import BaseModel, Field, validator\n",
    "from langchain_openai import ChatOpenAI"
   ]
  },
  {
   "cell_type": "markdown",
   "metadata": {},
   "source": [
    "### Initiate OpenAI LLM"
   ]
  },
  {
   "cell_type": "code",
   "execution_count": 3,
   "metadata": {},
   "outputs": [],
   "source": [
    "model = ChatOpenAI(temperature=0.9)"
   ]
  },
  {
   "cell_type": "markdown",
   "metadata": {},
   "source": [
    "### Create Pydantic objects and chain"
   ]
  },
  {
   "cell_type": "code",
   "execution_count": 4,
   "metadata": {},
   "outputs": [],
   "source": [
    "# Define your desired data structure.\n",
    "class FilmRecommendation(BaseModel):\n",
    "    genre: str = Field(description=\"Recommended film genre\")\n",
    "    film_name: str = Field(description=\"Recommended film name\")\n",
    "\n",
    "\n",
    "# Set up a parser + inject instructions into the prompt template.\n",
    "parser = PydanticOutputParser(pydantic_object=FilmRecommendation)\n",
    "\n",
    "prompt = PromptTemplate(\n",
    "    template=\"\"\"\n",
    "    You are the best film recommender based on the user query. Users tell you a scene and you recommend a movie and its genre based on that.\n",
    "    \n",
    "    {format_instructions}\n",
    "    \n",
    "    Scene: {scene}\"\"\",\n",
    "    input_variables=[\"scene\"],\n",
    "    partial_variables={\"format_instructions\": parser.get_format_instructions()},\n",
    ")\n",
    "\n",
    "# Chain ->\n",
    "chain = prompt | model | parser\n",
    "\n"
   ]
  },
  {
   "cell_type": "markdown",
   "metadata": {},
   "source": [
    "### Run"
   ]
  },
  {
   "cell_type": "code",
   "execution_count": 5,
   "metadata": {},
   "outputs": [
    {
     "name": "stdout",
     "output_type": "stream",
     "text": [
      "Floating ship middle of the ocean: genre='Adventure' film_name='Pirates of the Caribbean: The Curse of the Black Pearl' \n",
      "----------------------------------------\n",
      "A superhero crawling the tower: genre='Action' film_name='Spider-Man: Homecoming' \n",
      "----------------------------------------\n",
      "travel in the time: genre='Sci-Fi' film_name='Back to the Future' \n",
      "----------------------------------------\n"
     ]
    }
   ],
   "source": [
    "list_scenes = [\n",
    "    'Floating ship middle of the ocean',\n",
    "    'A superhero crawling the tower',\n",
    "    'travel in the time',\n",
    "]\n",
    "\n",
    "\n",
    "for scene in list_scenes:\n",
    "    print(f'{scene}: {chain.invoke({\"scene\": scene})} \\n{\"-\"*40}')"
   ]
  },
  {
   "cell_type": "code",
   "execution_count": 6,
   "metadata": {},
   "outputs": [
    {
     "name": "stdout",
     "output_type": "stream",
     "text": [
      "Genre: Science Fiction\n",
      "Film Name: Back to the Future\n"
     ]
    },
    {
     "data": {
      "text/plain": [
       "FilmRecommendation(genre='Science Fiction', film_name='Back to the Future')"
      ]
     },
     "execution_count": 6,
     "metadata": {},
     "output_type": "execute_result"
    }
   ],
   "source": [
    "result = chain.invoke({\"scene\": list_scenes[-1]})\n",
    "\n",
    "print(f'Genre: {result.genre}')\n",
    "print(f'Film Name: {result.film_name}')\n",
    "\n",
    "result"
   ]
  }
 ],
 "metadata": {
  "kernelspec": {
   "display_name": "ai",
   "language": "python",
   "name": "python3"
  },
  "language_info": {
   "codemirror_mode": {
    "name": "ipython",
    "version": 3
   },
   "file_extension": ".py",
   "mimetype": "text/x-python",
   "name": "python",
   "nbconvert_exporter": "python",
   "pygments_lexer": "ipython3",
   "version": "3.10.13"
  }
 },
 "nbformat": 4,
 "nbformat_minor": 2
}
